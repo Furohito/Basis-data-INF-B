{
  "nbformat": 4,
  "nbformat_minor": 0,
  "metadata": {
    "colab": {
      "provenance": []
    },
    "kernelspec": {
      "name": "python3",
      "display_name": "Python 3"
    },
    "language_info": {
      "name": "python"
    }
  },
  "cells": [
    {
      "cell_type": "markdown",
      "source": [
        "# 1.1 Algoritma divide n conquer summation\n",
        "\n"
      ],
      "metadata": {
        "id": "6wbYggoBPYRQ"
      }
    },
    {
      "cell_type": "code",
      "execution_count": 1,
      "metadata": {
        "id": "CCs13Hz3FQVy"
      },
      "outputs": [],
      "source": [
        "# 1.1 Algoritma divide n conquer summation\n",
        "\n",
        "# A Divide and Conquer based program for maximum subarray sum problem\n",
        "# Find the maximum possible sum in arr[] such that arr[m] is part of it\n",
        "\n",
        "def maxCrossingSum(arr, l, m, h):\n",
        "    # Include elements on the left of mid\n",
        "    sm = 0\n",
        "    left_sum = -10000\n",
        "\n",
        "    for i in range(m, l-1, -1):\n",
        "        sm = sm + arr[i]\n",
        "        if sm > left_sum:\n",
        "            left_sum = sm\n",
        "\n",
        "    # Include elements on the right of mid\n",
        "    sm = 0\n",
        "    right_sum = -10000\n",
        "    for i in range(m + 1, h + 1):\n",
        "        sm = sm + arr[i]\n",
        "        if sm > right_sum:\n",
        "            right_sum = sm\n",
        "\n",
        "    # Return sum of elements on left and right of mid\n",
        "    # Return only left_sum + right_sum will fail for [-2, 1]\n",
        "    return max(left_sum + right_sum - arr[m], left_sum, right_sum)\n"
      ]
    },
    {
      "cell_type": "markdown",
      "source": [
        "<h1>1.2 Algoritma divide n conquer summation </h1>\n",
        "\n"
      ],
      "metadata": {
        "id": "tFRJ7esZPuO5"
      }
    },
    {
      "cell_type": "code",
      "source": [
        "# 1.2 algoritma divide n conquer summation\n",
        "\n",
        "# Returns sum of maximum subarray in arr[l..h]\n",
        "def maxSubArraySum(arr, l, h):\n",
        "    # Invalid Range: low is greater than high\n",
        "    if (l > h):\n",
        "        return -10000\n",
        "\n",
        "    # Base Case: Only one element\n",
        "    if (l == h):\n",
        "        return arr[l]\n",
        "\n",
        "    # Find the middle point\n",
        "    m = (l + h) // 2\n",
        "\n",
        "    # Return maximum of following three possible cases\n",
        "    # a) Maximum subarray sum in left half\n",
        "    # b) Maximum subarray sum in right half\n",
        "    # c) Maximum subarray sum such that the subarray crosses the midpoint\n",
        "    return max(maxSubArraySum(arr, l, m-1),  # Left half\n",
        "               maxSubArraySum(arr, m+1, h),  # Right half\n",
        "               maxCrossingSum(arr, l, m, h))  # Across the midpoint\n",
        "\n",
        "# Driver Code\n",
        "arr = [4, 12, 23, 9, 21, 1, 35, 2, 24]\n",
        "n = len(arr)\n",
        "\n",
        "max_sum = maxSubArraySum(arr, 0, n-1)\n",
        "print(\"Maximum contiguous sum is\", max_sum)\n",
        "\n",
        "# Test with another array\n",
        "arr = [12, 51, 23, 84, 5, 9]\n",
        "n = len(arr)\n",
        "\n",
        "max_sum = maxSubArraySum(arr, 0, n-1)\n",
        "print(\"Maximum contiguous sum is\", max_sum)\n"
      ],
      "metadata": {
        "colab": {
          "base_uri": "https://localhost:8080/"
        },
        "id": "svL9LaWOFfIb",
        "outputId": "63b0b3f6-5dc4-498e-8569-c92c2884eda8"
      },
      "execution_count": 4,
      "outputs": [
        {
          "output_type": "stream",
          "name": "stdout",
          "text": [
            "Maximum contiguous sum is 110\n",
            "Maximum contiguous sum is 161\n"
          ]
        }
      ]
    },
    {
      "cell_type": "markdown",
      "source": [
        "<h1>2 Algoritma divide n conquer MinMaks </h1>\n",
        "\n"
      ],
      "metadata": {
        "id": "oCwW4dWIP07l"
      }
    },
    {
      "cell_type": "code",
      "source": [
        "# 2 Algoritma divide n conquer minmaks\n",
        "\n",
        "\n",
        "def divideAndConquer_Max(arr, ind, length):\n",
        "    maximum = -1\n",
        "\n",
        "    if (ind >= length - 2):\n",
        "        if (arr[ind] > arr[ind + 1]):\n",
        "            return arr[ind]\n",
        "        else:\n",
        "            return arr[ind + 1]\n",
        "\n",
        "    maximum = divideAndConquer_Max(arr, ind + 1, length)\n",
        "\n",
        "    if (arr[ind] > maximum):\n",
        "        return arr[ind]\n",
        "    else:\n",
        "        return maximum\n",
        "\n",
        "def divideAndConquer_Min(arr, ind, length):\n",
        "    minimum = 0\n",
        "\n",
        "    if (ind >= length - 2):\n",
        "        if (arr[ind] < arr[ind + 1]):\n",
        "            return arr[ind]\n",
        "        else:\n",
        "            return arr[ind + 1]\n",
        "\n",
        "    minimum = divideAndConquer_Min(arr, ind + 1, length)\n",
        "\n",
        "    if (arr[ind] < minimum):\n",
        "        return arr[ind]\n",
        "    else:\n",
        "        return minimum\n",
        "\n",
        "# Array initialization\n",
        "arr = [6, 4, 8, 90, 12, 56, 7, 1, 63]\n",
        "length = len(arr)\n",
        "\n",
        "maximum = divideAndConquer_Max(arr, 0, length)\n",
        "minimum = divideAndConquer_Min(arr, 0, length)\n",
        "\n",
        "print(\"The minimum number in the array is: \", minimum)\n",
        "print(\"The maximum number in the array is: \", maximum)\n"
      ],
      "metadata": {
        "colab": {
          "base_uri": "https://localhost:8080/"
        },
        "id": "lKPJltePKCOj",
        "outputId": "c11d1221-9b78-4008-bae8-acb19277653f"
      },
      "execution_count": 21,
      "outputs": [
        {
          "output_type": "stream",
          "name": "stdout",
          "text": [
            "The minimum number in the array is:  1\n",
            "The maximum number in the array is:  90\n"
          ]
        }
      ]
    },
    {
      "cell_type": "markdown",
      "source": [
        "<center><h1>3 Algoritma divide n conquer merge sort </h1></center>\n",
        "\n"
      ],
      "metadata": {
        "id": "O-Ftz7WFP7f9"
      }
    },
    {
      "cell_type": "code",
      "source": [
        "# 3 Algoritma divide n conquer merge sort\n",
        "\n",
        "# MergeSort in Python\n",
        "def mergeSort(array):\n",
        "    if len(array) > 1:\n",
        "\n",
        "        # r is the point where the array is divided into two subarrays\n",
        "        r = len(array) // 2\n",
        "        L = array[:r]\n",
        "        M = array[r:]\n",
        "\n",
        "        # Sort the two halves\n",
        "        mergeSort(L)\n",
        "        mergeSort(M)\n",
        "\n",
        "        i = j = k = 0\n",
        "\n",
        "        # Until we reach either end of either L or M, pick larger among\n",
        "        # elements L and M and place them in the correct position at A[p..r]\n",
        "        while i < len(L) and j < len(M):\n",
        "            if L[i] < M[j]:\n",
        "                array[k] = L[i]\n",
        "                i += 1\n",
        "            else:\n",
        "                array[k] = M[j]\n",
        "                j += 1\n",
        "            k += 1\n",
        "\n",
        "        # When we run out of elements in either L or M,\n",
        "        # pick up the remaining elements and put in array\n",
        "        while i < len(L):\n",
        "            array[k] = L[i]\n",
        "            i += 1\n",
        "            k += 1\n",
        "\n",
        "        while j < len(M):\n",
        "            array[k] = M[j]\n",
        "            j += 1\n",
        "            k += 1\n",
        "\n",
        "# Print the array\n",
        "def printList(array):\n",
        "    for i in range(len(array)):\n",
        "        print(array[i], end=\" \")\n",
        "    print()\n",
        "\n",
        "# Test the mergeSort function\n",
        "array = [8, 3, 2, 9, 7, 1, 5, 4]\n",
        "mergeSort(array)\n",
        "\n",
        "print(\"Sorted array is: \")\n",
        "printList(array)"
      ],
      "metadata": {
        "colab": {
          "base_uri": "https://localhost:8080/"
        },
        "id": "Rg_Qlj5XKuKG",
        "outputId": "64646a04-546e-4fc6-8395-42f3b66abad3"
      },
      "execution_count": 7,
      "outputs": [
        {
          "output_type": "stream",
          "name": "stdout",
          "text": [
            "Sorted array is: \n",
            "1 2 3 4 5 7 8 9 \n"
          ]
        }
      ]
    },
    {
      "cell_type": "markdown",
      "source": [
        "# 4 algoritma divide n conquer Insertion Sort\n"
      ],
      "metadata": {
        "id": "Xxxf6aT8QZ31"
      }
    },
    {
      "cell_type": "code",
      "source": [
        "# 4 algoritma divide n conquer Insertion Sort\n",
        "def insertion_sort(arr):\n",
        "    for i in range(1, len(arr)):\n",
        "        key = arr[i]\n",
        "        j = i - 1\n",
        "        while j >= 0 and key < arr[j]:\n",
        "            arr[j + 1] = arr[j]\n",
        "            j -= 1\n",
        "        arr[j + 1] = key\n",
        "    return arr\n",
        "\n",
        "# Example usage\n",
        "arr = [4, 12, 23, 9, 21, 1, 5, 2]\n",
        "print(\"Sorted array is:\", insertion_sort(arr))\n"
      ],
      "metadata": {
        "colab": {
          "base_uri": "https://localhost:8080/"
        },
        "id": "DvhwGmfULx02",
        "outputId": "f561ac95-aa8d-41c6-ce5b-1467a7008e21"
      },
      "execution_count": 8,
      "outputs": [
        {
          "output_type": "stream",
          "name": "stdout",
          "text": [
            "Sorted array is: [1, 2, 4, 5, 9, 12, 21, 23]\n"
          ]
        }
      ]
    },
    {
      "cell_type": "markdown",
      "source": [
        "# 5 algoritma divide n conquer Quick Sort\n"
      ],
      "metadata": {
        "id": "s1PD6r_4RIeA"
      }
    },
    {
      "cell_type": "code",
      "source": [
        "# 5 algoritma divide n conquer Quick Sort\n",
        "\n",
        "def partition(array, low, high):\n",
        "    pivot = array[high]\n",
        "\n",
        "    i = low - 1\n",
        "\n",
        "    for j in range(low, high):\n",
        "        if array[j] <= pivot:\n",
        "            i = i + 1\n",
        "            (array[i], array[j]) = (array[j], array[i])\n",
        "\n",
        "    (array[i + 1], array[high]) = (array[high], array[i + 1])\n",
        "\n",
        "    return i + 1\n",
        "\n",
        "def quickSort(array, low, high):\n",
        "    if low < high:\n",
        "        pi = partition(array, low, high)\n",
        "\n",
        "        quickSort(array, low, pi - 1)\n",
        "\n",
        "        quickSort(array, pi + 1, high)\n",
        "\n",
        "data = [1, 7, 4, 1, 10, 9, -2]\n",
        "print(\"Unsorted Array\")\n",
        "print(data)\n",
        "\n",
        "size = len(data)\n",
        "quickSort(data, 0, size - 1)\n",
        "\n",
        "print(\"Sorted Array in Ascending Order:\")\n",
        "print(data)\n"
      ],
      "metadata": {
        "colab": {
          "base_uri": "https://localhost:8080/"
        },
        "id": "tgcZBTs5MIao",
        "outputId": "1a367ce6-5a91-4c4c-fb0f-1a054de05f0b"
      },
      "execution_count": 9,
      "outputs": [
        {
          "output_type": "stream",
          "name": "stdout",
          "text": [
            "Unsorted Array\n",
            "[1, 7, 4, 1, 10, 9, -2]\n",
            "Sorted Array in Ascending Order:\n",
            "[-2, 1, 1, 4, 7, 9, 10]\n"
          ]
        }
      ]
    },
    {
      "cell_type": "markdown",
      "source": [
        "# 5.1 algoritma divide n conquer Quick Sort\n"
      ],
      "metadata": {
        "id": "IXVa8a1gRKg9"
      }
    },
    {
      "cell_type": "code",
      "source": [
        "# 5.1 algoritma divide n conquer Quick Sort\n",
        "\n",
        "def countInversion(arr):\n",
        "    result = 0\n",
        "    for i in range(len(arr)):\n",
        "        for j in range(i + 1, len(arr)):\n",
        "            if arr[i] > arr[j]:\n",
        "                result += 1\n",
        "    return result\n",
        "\n",
        "arr = [21, 70, 36, 14, 25]\n",
        "\n",
        "result = countInversion(arr)\n",
        "print(result)\n",
        "\n"
      ],
      "metadata": {
        "colab": {
          "base_uri": "https://localhost:8080/"
        },
        "id": "fxjPOLGMMq6c",
        "outputId": "d43075f7-dd0f-4d90-d480-5662c8c12972"
      },
      "execution_count": 10,
      "outputs": [
        {
          "output_type": "stream",
          "name": "stdout",
          "text": [
            "6\n"
          ]
        }
      ]
    },
    {
      "cell_type": "code",
      "source": [
        "# Hitung Inversi dengan Divide dan Conquer\n",
        "def countInversion(arr):\n",
        "    icount = 0\n",
        "    if len(arr) <= 1:\n",
        "        return icount\n",
        "\n",
        "    mid = len(arr) // 2\n",
        "    left = arr[:mid]\n",
        "    right = arr[mid:]\n",
        "\n",
        "    icount += countInversion(left)\n",
        "    icount += countInversion(right)\n",
        "\n",
        "    i = j = k = 0\n",
        "    while i < len(left) and j < len(right):\n",
        "        if left[i] <= right[j]:\n",
        "            arr[k] = left[i]\n",
        "            i += 1\n",
        "        else:\n",
        "            arr[k] = right[j]\n",
        "            j += 1\n",
        "            icount += (mid - i)\n",
        "        k += 1\n",
        "\n",
        "    while i < len(left):\n",
        "        arr[k] = left[i]\n",
        "        i += 1\n",
        "        k += 1\n",
        "\n",
        "    while j < len(right):\n",
        "        arr[k] = right[j]\n",
        "        j += 1\n",
        "        k += 1\n",
        "\n",
        "    return icount\n",
        "\n",
        "arr = [1, 20, 6, 4, 5]\n",
        "result = countInversion(arr)\n",
        "print(result)\n"
      ],
      "metadata": {
        "colab": {
          "base_uri": "https://localhost:8080/"
        },
        "id": "vchvnZtoNAmD",
        "outputId": "4c7282e2-7b44-406c-f696-fb78fc8fa33d"
      },
      "execution_count": 11,
      "outputs": [
        {
          "output_type": "stream",
          "name": "stdout",
          "text": [
            "5\n"
          ]
        }
      ]
    },
    {
      "cell_type": "code",
      "source": [
        "# Tanpa divide dan conquer (Kadane's Algorithm)\n",
        "def maxSubSum(arr):\n",
        "    max_so_far = 0\n",
        "    max_ending_here = 0\n",
        "    for i in range(len(arr)):\n",
        "        max_ending_here += arr[i]\n",
        "        if max_ending_here > max_so_far:\n",
        "            max_so_far = max_ending_here\n",
        "        if max_ending_here < 0:\n",
        "            max_ending_here = 0\n",
        "    return max_so_far\n",
        "\n",
        "arr = [-2, -5, 6, -2, -3, 1, 5, -6]\n",
        "result = maxSubSum(arr)\n",
        "print(result)\n"
      ],
      "metadata": {
        "colab": {
          "base_uri": "https://localhost:8080/"
        },
        "id": "1ymhQkRxN6Gr",
        "outputId": "2c87fc2b-b2ca-43fb-d9d6-c35d509a6ad7"
      },
      "execution_count": 12,
      "outputs": [
        {
          "output_type": "stream",
          "name": "stdout",
          "text": [
            "7\n"
          ]
        }
      ]
    },
    {
      "cell_type": "code",
      "source": [
        "# Menggunakan Divide and Conquer\n",
        "def maxCrossingSum(arr, low, mid, high):\n",
        "    result = 0; leftSum = float('-infinity')\n",
        "    for i in range(mid, low - 1, -1):\n",
        "        result += arr[i]\n",
        "        if result > leftSum:\n",
        "            leftSum = result\n",
        "\n",
        "    result = 0; rightSum = float('-infinity')\n",
        "    for i in range(mid + 1, high + 1):\n",
        "        result += arr[i]\n",
        "        if result > rightSum:\n",
        "            rightSum = result\n",
        "\n",
        "    return leftSum + rightSum\n",
        "\n",
        "def maxSum(arr, low, high):\n",
        "    if low == high:\n",
        "        return arr[low]\n",
        "\n",
        "    mid = (low + high) // 2\n",
        "\n",
        "    return max(maxSum(arr, low, mid),\n",
        "               maxSum(arr, mid + 1, high),\n",
        "               maxCrossingSum(arr, low, mid, high))\n",
        "\n",
        "arr = [-2, -5, 6, -2, -3, 1, 5, -6]\n",
        "result = maxSum(arr, 0, len(arr) - 1)\n",
        "print(result)\n"
      ],
      "metadata": {
        "colab": {
          "base_uri": "https://localhost:8080/"
        },
        "id": "Ow-m4cK6N8xs",
        "outputId": "f5cdeae2-9380-4334-e105-474b3acc2e84"
      },
      "execution_count": 13,
      "outputs": [
        {
          "output_type": "stream",
          "name": "stdout",
          "text": [
            "7\n"
          ]
        }
      ]
    },
    {
      "cell_type": "code",
      "source": [
        "# Longest Common Prefix\n",
        "def longestCommonPrefix(a):\n",
        "    size = len(a)\n",
        "    if size == 0:\n",
        "        return \"\"\n",
        "    if size == 1:\n",
        "        return a[0]\n",
        "\n",
        "    a.sort()\n",
        "\n",
        "    end = min(len(a[0]), len(a[size - 1]))\n",
        "\n",
        "    i = 0\n",
        "    while i < end and a[0][i] == a[size - 1][i]:\n",
        "        i += 1\n",
        "\n",
        "    pre = a[0][0: i]\n",
        "    return pre\n",
        "\n",
        "arr = [\"geeksforgeeks\", \"geeks\", \"geek\", \"geezer\"]\n",
        "result = longestCommonPrefix(arr)\n",
        "print(result)\n",
        "\n",
        "arr = [\"apple\", \"ape\", \"april\"]\n",
        "result = longestCommonPrefix(arr)\n",
        "print(result)\n"
      ],
      "metadata": {
        "colab": {
          "base_uri": "https://localhost:8080/"
        },
        "id": "TYjqxlIXN_lp",
        "outputId": "29203b8a-8940-4286-b7b2-51be9145f7b8"
      },
      "execution_count": 14,
      "outputs": [
        {
          "output_type": "stream",
          "name": "stdout",
          "text": [
            "gee\n",
            "ap\n"
          ]
        }
      ]
    },
    {
      "cell_type": "code",
      "source": [
        "# Median dari dua array dengan divide dan conquer\n",
        "def medianOfArray(arr1, arr2, n):\n",
        "    m1 = -1  # first number\n",
        "    m2 = -1  # second number\n",
        "\n",
        "    count = 0\n",
        "    i = j = 0\n",
        "\n",
        "    while count < n + 1:\n",
        "        count += 1\n",
        "\n",
        "        if i == n:\n",
        "            m1 = m2\n",
        "            m2 = arr2[0]\n",
        "            break\n",
        "        elif j == n:\n",
        "            m1 = m2\n",
        "            m2 = arr1[0]\n",
        "            break\n",
        "\n",
        "        if arr1[i] <= arr2[j]:\n",
        "            m1 = m2  # Store the prev median\n",
        "            m2 = arr1[i]\n",
        "            i += 1\n",
        "        else:\n",
        "            m1 = m2  # Store the prev median\n",
        "            m2 = arr2[j]\n",
        "            j += 1\n",
        "\n",
        "    return (m1 + m2) // 2\n",
        "\n",
        "arr1 = [1, 12, 15, 26, 38]\n",
        "arr2 = [2, 13, 17, 30, 45]\n",
        "print(medianOfArray(arr1, arr2, len(arr1)))\n"
      ],
      "metadata": {
        "colab": {
          "base_uri": "https://localhost:8080/"
        },
        "id": "575KcPuEOCEl",
        "outputId": "cbdbd2c5-561d-4889-fa9c-62370ec27863"
      },
      "execution_count": 15,
      "outputs": [
        {
          "output_type": "stream",
          "name": "stdout",
          "text": [
            "16\n"
          ]
        }
      ]
    },
    {
      "cell_type": "code",
      "source": [
        "# Median from a merged array\n",
        "def Solution(arr):\n",
        "    n = len(arr)\n",
        "    if n % 2 == 0:\n",
        "        z = n // 2\n",
        "        e = arr[z]\n",
        "        q = arr[z - 1]\n",
        "        ans = (e + q) // 2\n",
        "        return ans\n",
        "    else:\n",
        "        z = n // 2\n",
        "        ans = arr[z]\n",
        "        return ans\n",
        "\n",
        "arr1 = [-5, 3, 6, 12, 15]\n",
        "arr2 = [-12, -10, -6, -3, 4, 10]\n",
        "arr3 = arr1 + arr2\n",
        "arr3.sort()\n",
        "\n",
        "print(\"Median =\", Solution(arr3))\n"
      ],
      "metadata": {
        "colab": {
          "base_uri": "https://localhost:8080/"
        },
        "id": "4cF2tJl8OGXV",
        "outputId": "6980525c-23f6-4942-cc76-b61206074334"
      },
      "execution_count": 16,
      "outputs": [
        {
          "output_type": "stream",
          "name": "stdout",
          "text": [
            "Median = 3\n"
          ]
        }
      ]
    },
    {
      "cell_type": "code",
      "source": [
        "# Floor in a sorted array\n",
        "def floorSorted(arr, low, high, x):\n",
        "    if low > high:\n",
        "        return -1\n",
        "\n",
        "    if arr[high] <= x:\n",
        "        return arr[high]\n",
        "\n",
        "    if arr[low] > x:\n",
        "        return -1\n",
        "\n",
        "    mid = (low + high) // 2\n",
        "\n",
        "    if arr[mid] == x:\n",
        "        return arr[mid]\n",
        "\n",
        "    if mid > 0 and arr[mid - 1] <= x < arr[mid]:\n",
        "        return arr[mid - 1]\n",
        "\n",
        "    if mid < high and arr[mid] <= x < arr[mid + 1]:\n",
        "        return arr[mid]\n",
        "\n",
        "    if arr[mid] > x:\n",
        "        return floorSorted(arr, low, mid - 1, x)\n",
        "    return floorSorted(arr, mid + 1, high, x)\n",
        "\n",
        "arr = [1, 2, 8, 10, 12, 14, 19]\n",
        "x = 5\n",
        "print(floorSorted(arr, 0, len(arr) - 1, x))\n"
      ],
      "metadata": {
        "colab": {
          "base_uri": "https://localhost:8080/"
        },
        "id": "nwcDucYKPOSR",
        "outputId": "e9d3f9bb-ea2a-4995-9dd3-86d9a57173c9"
      },
      "execution_count": 17,
      "outputs": [
        {
          "output_type": "stream",
          "name": "stdout",
          "text": [
            "2\n"
          ]
        }
      ]
    },
    {
      "cell_type": "code",
      "source": [
        "# Closest number using divide and conquer\n",
        "def closestNumber(arr, low, high, x):\n",
        "    if low > high:\n",
        "        return -1\n",
        "\n",
        "    if arr[high] <= x:\n",
        "        return arr[high]\n",
        "    if arr[low] >= x:\n",
        "        return arr[low]\n",
        "\n",
        "    mid = (low + high) // 2\n",
        "\n",
        "    if arr[mid] == x:\n",
        "        return arr[mid]\n",
        "\n",
        "    if mid > 0 and abs(arr[mid - 1] - x) < abs(arr[mid] - x):\n",
        "        return closestNumber(arr, low, mid - 1, x)\n",
        "    if mid < high and abs(arr[mid + 1] - x) < abs(arr[mid] - x):\n",
        "        return closestNumber(arr, mid + 1, high, x)\n",
        "\n",
        "    return arr[mid]\n",
        "\n",
        "arr = [2, 5, 6, 7, 8, 8, 9]\n",
        "x = 9\n",
        "print(closestNumber(arr, 0, len(arr) - 1, x))\n"
      ],
      "metadata": {
        "colab": {
          "base_uri": "https://localhost:8080/"
        },
        "id": "Ww5wNZNGPPuu",
        "outputId": "5c03f0f2-b5e1-497b-964e-304b2fea61f5"
      },
      "execution_count": 18,
      "outputs": [
        {
          "output_type": "stream",
          "name": "stdout",
          "text": [
            "9\n"
          ]
        }
      ]
    },
    {
      "cell_type": "code",
      "source": [
        "# Finding closest element in a list\n",
        "def find_closest(lst, k):\n",
        "    lst.sort()\n",
        "    closest_num = lst[0]\n",
        "    for num in lst:\n",
        "        if abs(num - k) < abs(closest_num - k):\n",
        "            closest_num = num\n",
        "        if num > k:\n",
        "            break\n",
        "    return closest_num\n",
        "\n",
        "lst = [3.64, 5.2, 9.42, 9.35, 8.5, 8]\n",
        "k = 9.1\n",
        "print(find_closest(lst, k))\n",
        "\n",
        "lst = [2, 5, 7, 8, 8, 9]\n",
        "k = 6\n",
        "print(find_closest(lst, k))\n"
      ],
      "metadata": {
        "colab": {
          "base_uri": "https://localhost:8080/"
        },
        "id": "DWvSihJBPQ5W",
        "outputId": "0845ca02-d354-4d76-e96a-7aa0fc54674c"
      },
      "execution_count": 19,
      "outputs": [
        {
          "output_type": "stream",
          "name": "stdout",
          "text": [
            "9.35\n",
            "5\n"
          ]
        }
      ]
    },
    {
      "cell_type": "code",
      "source": [
        "# Finding Fixed Point using divide and conquer\n",
        "def fixedPoint(arr, low, high):\n",
        "    if low > high:\n",
        "        return -1\n",
        "\n",
        "    if arr[high] == high:\n",
        "        return arr[high]\n",
        "    if arr[low] == low:\n",
        "        return arr[low]\n",
        "\n",
        "    mid = (low + high) // 2\n",
        "\n",
        "    if arr[mid] == mid:\n",
        "        return arr[mid]\n",
        "\n",
        "    if arr[mid] < mid:\n",
        "        return fixedPoint(arr, mid + 1, high)\n",
        "    return fixedPoint(arr, low, mid - 1)\n",
        "\n",
        "arr = [9, 1, 4, 5, 2]\n",
        "print(fixedPoint(arr, 0, len(arr) - 1))\n"
      ],
      "metadata": {
        "colab": {
          "base_uri": "https://localhost:8080/"
        },
        "id": "9MmDJcOyPRwa",
        "outputId": "9c9fa72e-b628-41e2-a101-0a4ecd5bd664"
      },
      "execution_count": 22,
      "outputs": [
        {
          "output_type": "stream",
          "name": "stdout",
          "text": [
            "1\n"
          ]
        }
      ]
    }
  ]
}